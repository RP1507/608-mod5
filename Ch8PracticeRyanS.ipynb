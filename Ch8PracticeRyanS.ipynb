{
 "cells": [
  {
   "cell_type": "markdown",
   "id": "c7ea5b43-7c96-4dac-9851-a31c22e19530",
   "metadata": {},
   "source": [
    "# Module 5 - Chapter 8 Practice and Self Checks"
   ]
  },
  {
   "cell_type": "markdown",
   "id": "64030ed7-265a-4677-89b5-a45264c6e780",
   "metadata": {},
   "source": [
    "#### Chapter 8.2 - Formatting Strings"
   ]
  },
  {
   "cell_type": "code",
   "execution_count": 1,
   "id": "a8094ccf-6dcd-48fd-a70f-d0c04b1e0de2",
   "metadata": {},
   "outputs": [
    {
     "data": {
      "text/plain": [
       "'17.49'"
      ]
     },
     "execution_count": 1,
     "metadata": {},
     "output_type": "execute_result"
    }
   ],
   "source": [
    "f'{17.489:.2f}'"
   ]
  },
  {
   "cell_type": "code",
   "execution_count": 2,
   "id": "b848ec61-bfb9-49f0-b175-3b66bb95f0fd",
   "metadata": {},
   "outputs": [
    {
     "data": {
      "text/plain": [
       "'10'"
      ]
     },
     "execution_count": 2,
     "metadata": {},
     "output_type": "execute_result"
    }
   ],
   "source": [
    "f'{10:d}'"
   ]
  },
  {
   "cell_type": "code",
   "execution_count": 3,
   "id": "a026e96f-9649-4e03-ae26-d637aff12c8e",
   "metadata": {},
   "outputs": [
    {
     "data": {
      "text/plain": [
       "'A a'"
      ]
     },
     "execution_count": 3,
     "metadata": {},
     "output_type": "execute_result"
    }
   ],
   "source": [
    "f'{65:c} {97:c}'"
   ]
  },
  {
   "cell_type": "code",
   "execution_count": 4,
   "id": "add6adf9-ee2e-4f75-83db-9179693ee741",
   "metadata": {},
   "outputs": [
    {
     "data": {
      "text/plain": [
       "'hello 7'"
      ]
     },
     "execution_count": 4,
     "metadata": {},
     "output_type": "execute_result"
    }
   ],
   "source": [
    "f'{\"hello\":s} {7}'"
   ]
  },
  {
   "cell_type": "code",
   "execution_count": 5,
   "id": "92eae7fb-85ac-4dfc-9cc0-0b9455794cf1",
   "metadata": {},
   "outputs": [],
   "source": [
    "from decimal import Decimal"
   ]
  },
  {
   "cell_type": "code",
   "execution_count": 6,
   "id": "f7649c3c-878e-46a7-aae3-bee7836e7b6f",
   "metadata": {},
   "outputs": [
    {
     "data": {
      "text/plain": [
       "'1000000000000000.000'"
      ]
     },
     "execution_count": 6,
     "metadata": {},
     "output_type": "execute_result"
    }
   ],
   "source": [
    "f'{Decimal(\"1000000000000000.0\"):.3f}'"
   ]
  },
  {
   "cell_type": "code",
   "execution_count": 7,
   "id": "3ca7331a-dbd0-48cb-baa5-5ff5228e65c0",
   "metadata": {},
   "outputs": [
    {
     "data": {
      "text/plain": [
       "'1.000e+18'"
      ]
     },
     "execution_count": 7,
     "metadata": {},
     "output_type": "execute_result"
    }
   ],
   "source": [
    "f'{Decimal(\"1000000000000000000.0\"):.3e}'"
   ]
  },
  {
   "cell_type": "markdown",
   "id": "b3543f04-f188-4b93-8f6a-80bd02ff417d",
   "metadata": {},
   "source": [
    "#### Self Check 8.2 - Formatting Strings"
   ]
  },
  {
   "cell_type": "code",
   "execution_count": 8,
   "id": "89e87ac2-e565-47c4-90ab-4376d16fa503",
   "metadata": {},
   "outputs": [
    {
     "name": "stdout",
     "output_type": "stream",
     "text": [
      ":-)\n"
     ]
    }
   ],
   "source": [
    "print(f'{58:c}{45:c}{41:c}')"
   ]
  },
  {
   "cell_type": "markdown",
   "id": "d4b62902-2516-4d5e-ba79-bc1cb90e6eda",
   "metadata": {},
   "source": [
    "#### Chapter 8.2.2"
   ]
  },
  {
   "cell_type": "code",
   "execution_count": 9,
   "id": "56ab25c3-307b-4764-8fa9-dba07496f73b",
   "metadata": {},
   "outputs": [
    {
     "data": {
      "text/plain": [
       "'[        27]'"
      ]
     },
     "execution_count": 9,
     "metadata": {},
     "output_type": "execute_result"
    }
   ],
   "source": [
    "f'[{27:10d}]'"
   ]
  },
  {
   "cell_type": "code",
   "execution_count": 10,
   "id": "da96804e-da6b-4be0-9347-14a3c40b5f70",
   "metadata": {},
   "outputs": [
    {
     "data": {
      "text/plain": [
       "'[  3.500000]'"
      ]
     },
     "execution_count": 10,
     "metadata": {},
     "output_type": "execute_result"
    }
   ],
   "source": [
    "f'[{3.5:10f}]'"
   ]
  },
  {
   "cell_type": "code",
   "execution_count": 11,
   "id": "5cd8463f-405b-4712-a470-2d115f0fffc6",
   "metadata": {},
   "outputs": [
    {
     "data": {
      "text/plain": [
       "'[hello     ]'"
      ]
     },
     "execution_count": 11,
     "metadata": {},
     "output_type": "execute_result"
    }
   ],
   "source": [
    "f'[{\"hello\":10}]'"
   ]
  },
  {
   "cell_type": "code",
   "execution_count": 12,
   "id": "61fd0cf2-428f-4db0-b806-c0915c1d59bd",
   "metadata": {},
   "outputs": [
    {
     "data": {
      "text/plain": [
       "'[27             ]'"
      ]
     },
     "execution_count": 12,
     "metadata": {},
     "output_type": "execute_result"
    }
   ],
   "source": [
    "f'[{27:<15d}]'"
   ]
  },
  {
   "cell_type": "code",
   "execution_count": 13,
   "id": "8e30b567-6ac3-4e9f-8601-bcb0c9c6e8cb",
   "metadata": {},
   "outputs": [
    {
     "data": {
      "text/plain": [
       "'[3.500000       ]'"
      ]
     },
     "execution_count": 13,
     "metadata": {},
     "output_type": "execute_result"
    }
   ],
   "source": [
    "f'[{3.5:<15f}]'"
   ]
  },
  {
   "cell_type": "code",
   "execution_count": 14,
   "id": "e3764b8e-d37e-4b5e-b52a-b0484c15bf3d",
   "metadata": {},
   "outputs": [
    {
     "data": {
      "text/plain": [
       "'[          hello]'"
      ]
     },
     "execution_count": 14,
     "metadata": {},
     "output_type": "execute_result"
    }
   ],
   "source": [
    "f'[{\"hello\":>15}]'"
   ]
  },
  {
   "cell_type": "code",
   "execution_count": 15,
   "id": "18666d07-9926-457d-888d-ee2e08c9a451",
   "metadata": {},
   "outputs": [
    {
     "data": {
      "text/plain": [
       "'[  27   ]'"
      ]
     },
     "execution_count": 15,
     "metadata": {},
     "output_type": "execute_result"
    }
   ],
   "source": [
    "f'[{27:^7d}]'"
   ]
  },
  {
   "cell_type": "code",
   "execution_count": 16,
   "id": "e71513a8-0e10-46fc-9105-62f73199c766",
   "metadata": {},
   "outputs": [
    {
     "data": {
      "text/plain": [
       "'[  3.5  ]'"
      ]
     },
     "execution_count": 16,
     "metadata": {},
     "output_type": "execute_result"
    }
   ],
   "source": [
    "f'[{3.5:^7.1f}]'"
   ]
  },
  {
   "cell_type": "code",
   "execution_count": 17,
   "id": "f2510cb2-5fec-4445-817d-9ae9a71a0d22",
   "metadata": {},
   "outputs": [
    {
     "data": {
      "text/plain": [
       "'[ hello ]'"
      ]
     },
     "execution_count": 17,
     "metadata": {},
     "output_type": "execute_result"
    }
   ],
   "source": [
    "f'[{\"hello\":^7}]'"
   ]
  },
  {
   "cell_type": "markdown",
   "id": "87f78253-796c-4aec-a341-891f55ec19b0",
   "metadata": {},
   "source": [
    "#### Self Check 8.2.2"
   ]
  },
  {
   "cell_type": "code",
   "execution_count": 18,
   "id": "11dc6714-a34a-492a-b845-74af41b35bf4",
   "metadata": {},
   "outputs": [
    {
     "name": "stdout",
     "output_type": "stream",
     "text": [
      "[    Amanda]\n",
      "[  Amanda  ]\n",
      "[Amanda    ]\n"
     ]
    }
   ],
   "source": [
    "print(f'[{\"Amanda\":>10}]\\n[{\"Amanda\":^10}]\\n[{\"Amanda\":<10}]')"
   ]
  },
  {
   "cell_type": "markdown",
   "id": "3435e404-099d-45b1-837b-360755891fb5",
   "metadata": {},
   "source": [
    "#### Chapter 8.2.3"
   ]
  },
  {
   "cell_type": "code",
   "execution_count": 19,
   "id": "0e9934ad-f917-4ebf-a756-b2128ff06457",
   "metadata": {},
   "outputs": [
    {
     "data": {
      "text/plain": [
       "'[       +27]'"
      ]
     },
     "execution_count": 19,
     "metadata": {},
     "output_type": "execute_result"
    }
   ],
   "source": [
    "f'[{27:+10d}]'"
   ]
  },
  {
   "cell_type": "code",
   "execution_count": 20,
   "id": "b36ff934-b3b2-4763-ae50-54800a69d3c2",
   "metadata": {},
   "outputs": [
    {
     "data": {
      "text/plain": [
       "'[+000000027]'"
      ]
     },
     "execution_count": 20,
     "metadata": {},
     "output_type": "execute_result"
    }
   ],
   "source": [
    "f'[{27:+010d}]'"
   ]
  },
  {
   "cell_type": "code",
   "execution_count": 21,
   "id": "3fc67c66-aba6-499f-adb0-31f32a897ede",
   "metadata": {},
   "outputs": [
    {
     "name": "stdout",
     "output_type": "stream",
     "text": [
      "27\n",
      " 27\n",
      "-27\n"
     ]
    }
   ],
   "source": [
    "print(f'{27:d}\\n{27: d}\\n{-27: d}')"
   ]
  },
  {
   "cell_type": "code",
   "execution_count": 22,
   "id": "002385db-477c-4863-926e-a02845075f44",
   "metadata": {},
   "outputs": [
    {
     "data": {
      "text/plain": [
       "'12,345,678'"
      ]
     },
     "execution_count": 22,
     "metadata": {},
     "output_type": "execute_result"
    }
   ],
   "source": [
    "f'{12345678:,d}'"
   ]
  },
  {
   "cell_type": "code",
   "execution_count": 23,
   "id": "d954954e-2296-47ca-b610-e4f92f7cd6e7",
   "metadata": {},
   "outputs": [
    {
     "data": {
      "text/plain": [
       "'123,456.78'"
      ]
     },
     "execution_count": 23,
     "metadata": {},
     "output_type": "execute_result"
    }
   ],
   "source": [
    "f'{123456.78:,.2f}'"
   ]
  },
  {
   "cell_type": "markdown",
   "id": "e36910e5-270f-4f28-9b31-b74f8cea8d9d",
   "metadata": {},
   "source": [
    "#### Self Check 8.2.3"
   ]
  },
  {
   "cell_type": "code",
   "execution_count": 24,
   "id": "4cf31811-5b3f-4bf1-b397-aff30a486a07",
   "metadata": {},
   "outputs": [
    {
     "name": "stdout",
     "output_type": "stream",
     "text": [
      "+10,240.47\n",
      " -3,210.95\n"
     ]
    }
   ],
   "source": [
    "print(f'{10240.473:+10,.2f}\\n{-3210.9521:+10,.2f}')"
   ]
  },
  {
   "cell_type": "markdown",
   "id": "f26cb3ee-90e7-4ba7-bf1d-82327311717e",
   "metadata": {},
   "source": [
    "#### Chapter 8.2.4"
   ]
  },
  {
   "cell_type": "code",
   "execution_count": 25,
   "id": "7ea11a6e-baf2-4a01-8247-b600f3ab3620",
   "metadata": {},
   "outputs": [
    {
     "data": {
      "text/plain": [
       "'17.49'"
      ]
     },
     "execution_count": 25,
     "metadata": {},
     "output_type": "execute_result"
    }
   ],
   "source": [
    "'{:.2f}'.format(17.489)"
   ]
  },
  {
   "cell_type": "code",
   "execution_count": 26,
   "id": "1a3d59c9-19fe-481a-b590-0b3f6b31b977",
   "metadata": {},
   "outputs": [
    {
     "data": {
      "text/plain": [
       "'Amanda Cyan'"
      ]
     },
     "execution_count": 26,
     "metadata": {},
     "output_type": "execute_result"
    }
   ],
   "source": [
    "'{} {}'.format('Amanda', 'Cyan')"
   ]
  },
  {
   "cell_type": "code",
   "execution_count": 27,
   "id": "043790d2-2896-4059-9a8f-bedf26ef9516",
   "metadata": {},
   "outputs": [
    {
     "data": {
      "text/plain": [
       "'Happy Happy Birthday'"
      ]
     },
     "execution_count": 27,
     "metadata": {},
     "output_type": "execute_result"
    }
   ],
   "source": [
    "'{0} {0} {1}'.format('Happy', 'Birthday')"
   ]
  },
  {
   "cell_type": "code",
   "execution_count": 28,
   "id": "cfdca8d5-3b28-4f6e-970d-23e65d72dd02",
   "metadata": {},
   "outputs": [
    {
     "data": {
      "text/plain": [
       "'Amanda Gray'"
      ]
     },
     "execution_count": 28,
     "metadata": {},
     "output_type": "execute_result"
    }
   ],
   "source": [
    "'{first} {last}'.format(first='Amanda', last='Gray')"
   ]
  },
  {
   "cell_type": "code",
   "execution_count": 29,
   "id": "56c5b903-b2a8-4047-a27a-83dd0c6db69b",
   "metadata": {},
   "outputs": [
    {
     "data": {
      "text/plain": [
       "'Gray Amanda'"
      ]
     },
     "execution_count": 29,
     "metadata": {},
     "output_type": "execute_result"
    }
   ],
   "source": [
    "'{last} {first}'.format(first='Amanda', last='Gray')"
   ]
  },
  {
   "cell_type": "markdown",
   "id": "09f3e3e1-39f9-4945-8a1e-5deff530ac6c",
   "metadata": {},
   "source": [
    "#### Self Check 8.2.4"
   ]
  },
  {
   "cell_type": "code",
   "execution_count": 30,
   "id": "e422082f-37c6-4cff-9b77-6c8db37984f7",
   "metadata": {},
   "outputs": [
    {
     "name": "stdout",
     "output_type": "stream",
     "text": [
      ": - )\n"
     ]
    }
   ],
   "source": [
    "print('{:c} {:c} {:c}'.format(58, 45, 41))"
   ]
  },
  {
   "cell_type": "code",
   "execution_count": 31,
   "id": "f23e1119-35d6-48b0-95ac-f2c7ac85bb94",
   "metadata": {},
   "outputs": [
    {
     "name": "stdout",
     "output_type": "stream",
     "text": [
      "[    Amanda]\n",
      "[  Amanda  ]\n",
      "[Amanda    ]\n"
     ]
    }
   ],
   "source": [
    "print('[{0:>10}]\\n[{0:^10}]\\n[{0:<10}]'.format('Amanda'))"
   ]
  },
  {
   "cell_type": "code",
   "execution_count": 32,
   "id": "a2c41777-85dd-455e-a2d3-65ced18e0947",
   "metadata": {},
   "outputs": [
    {
     "name": "stdout",
     "output_type": "stream",
     "text": [
      "+10,240.47\n",
      " -3,210.95\n"
     ]
    }
   ],
   "source": [
    "print('{:+10,.2f}\\n{:+10,.2f}'.format(10240.473, -3210.9521))"
   ]
  },
  {
   "cell_type": "markdown",
   "id": "8cd76b01-4052-45e9-b263-e80cdc685f15",
   "metadata": {},
   "source": [
    "#### Chapter 8.3 - Concatenating and Repeating Strings"
   ]
  },
  {
   "cell_type": "code",
   "execution_count": 33,
   "id": "534fd9ba-28ff-487b-830f-ceea39bc7405",
   "metadata": {},
   "outputs": [],
   "source": [
    "s1 = 'happy'"
   ]
  },
  {
   "cell_type": "code",
   "execution_count": 34,
   "id": "bc875989-9cd8-48d3-b236-a2b5b51bfded",
   "metadata": {},
   "outputs": [],
   "source": [
    "s2 = 'birthday'"
   ]
  },
  {
   "cell_type": "code",
   "execution_count": 35,
   "id": "3cb20dbf-84dd-4561-9ef6-7a8339239397",
   "metadata": {},
   "outputs": [],
   "source": [
    "s1 += ' ' + s2"
   ]
  },
  {
   "cell_type": "code",
   "execution_count": 36,
   "id": "d1c1dde0-9cfa-4351-8b1d-118715e2fa00",
   "metadata": {},
   "outputs": [
    {
     "data": {
      "text/plain": [
       "'happy birthday'"
      ]
     },
     "execution_count": 36,
     "metadata": {},
     "output_type": "execute_result"
    }
   ],
   "source": [
    "s1"
   ]
  },
  {
   "cell_type": "code",
   "execution_count": 37,
   "id": "ff4c714a-c267-4270-8848-1bf479de2b3b",
   "metadata": {},
   "outputs": [],
   "source": [
    "symbol = '>'"
   ]
  },
  {
   "cell_type": "code",
   "execution_count": 38,
   "id": "611d58ae-ad23-43d0-bec8-33432d254e37",
   "metadata": {},
   "outputs": [],
   "source": [
    "symbol *= 5 "
   ]
  },
  {
   "cell_type": "code",
   "execution_count": 39,
   "id": "fa08daee-ba5a-42dc-9e8f-94684fb03caa",
   "metadata": {},
   "outputs": [
    {
     "data": {
      "text/plain": [
       "'>>>>>'"
      ]
     },
     "execution_count": 39,
     "metadata": {},
     "output_type": "execute_result"
    }
   ],
   "source": [
    "symbol"
   ]
  },
  {
   "cell_type": "markdown",
   "id": "584fe683-3f71-484d-9fd0-825d7bcb3a89",
   "metadata": {},
   "source": [
    "#### Self Check 8.3"
   ]
  },
  {
   "cell_type": "code",
   "execution_count": 40,
   "id": "8b8bfbb3-1673-4d90-86b0-2abb08d7695d",
   "metadata": {},
   "outputs": [],
   "source": [
    "name = 'Pam'"
   ]
  },
  {
   "cell_type": "code",
   "execution_count": 41,
   "id": "bd3b56ac-ee7e-4490-8fff-26c97a39b3a8",
   "metadata": {},
   "outputs": [],
   "source": [
    "name += ' Black'"
   ]
  },
  {
   "cell_type": "code",
   "execution_count": 42,
   "id": "efdc9b0f-b93d-47a4-8a61-6139243a5e9b",
   "metadata": {},
   "outputs": [],
   "source": [
    "bar = '*'"
   ]
  },
  {
   "cell_type": "code",
   "execution_count": 44,
   "id": "c2077b17-f34f-40f7-907e-8d9b848352ed",
   "metadata": {},
   "outputs": [],
   "source": [
    "bar *= len(name)"
   ]
  },
  {
   "cell_type": "code",
   "execution_count": 46,
   "id": "3cae0606-9dcd-40e2-b6be-c74dc81ad5c8",
   "metadata": {},
   "outputs": [
    {
     "name": "stdout",
     "output_type": "stream",
     "text": [
      "*********\n",
      "Pam Black\n",
      "*********\n"
     ]
    }
   ],
   "source": [
    "print(f'{bar}\\n{name}\\n{bar}')"
   ]
  },
  {
   "cell_type": "markdown",
   "id": "4f703d7d-b629-4d4b-b2c5-224c91d75332",
   "metadata": {},
   "source": [
    "#### Chapter 8.4 - Stripping Whtespace from Strings"
   ]
  },
  {
   "cell_type": "code",
   "execution_count": 47,
   "id": "f28a534a-2928-41b2-b499-f157b7b92c29",
   "metadata": {},
   "outputs": [],
   "source": [
    "sentence = '\\t \\n This is a test string. \\t\\t \\n'"
   ]
  },
  {
   "cell_type": "code",
   "execution_count": 48,
   "id": "2ff104da-40c7-4e55-a141-92ec544c29bf",
   "metadata": {},
   "outputs": [
    {
     "data": {
      "text/plain": [
       "'This is a test string.'"
      ]
     },
     "execution_count": 48,
     "metadata": {},
     "output_type": "execute_result"
    }
   ],
   "source": [
    "sentence.strip()"
   ]
  },
  {
   "cell_type": "code",
   "execution_count": 50,
   "id": "bcb20392-a194-406f-b641-4cefa0a8eb52",
   "metadata": {},
   "outputs": [
    {
     "data": {
      "text/plain": [
       "'This is a test string. \\t\\t \\n'"
      ]
     },
     "execution_count": 50,
     "metadata": {},
     "output_type": "execute_result"
    }
   ],
   "source": [
    "sentence.lstrip()"
   ]
  },
  {
   "cell_type": "code",
   "execution_count": 51,
   "id": "c52823da-db53-456d-bb7d-132267e68352",
   "metadata": {},
   "outputs": [
    {
     "data": {
      "text/plain": [
       "'\\t \\n This is a test string.'"
      ]
     },
     "execution_count": 51,
     "metadata": {},
     "output_type": "execute_result"
    }
   ],
   "source": [
    "sentence.rstrip()"
   ]
  },
  {
   "cell_type": "markdown",
   "id": "b7fdf5d4-aa69-44fb-84f0-644e75dbb300",
   "metadata": {},
   "source": [
    "#### Self Check 8.4"
   ]
  },
  {
   "cell_type": "code",
   "execution_count": 52,
   "id": "e77bec39-23b1-4bab-909f-ac9b3c8d381b",
   "metadata": {},
   "outputs": [],
   "source": [
    "name = '     Margo Magenta     '"
   ]
  },
  {
   "cell_type": "code",
   "execution_count": 53,
   "id": "cbd3c5f0-f473-40ac-ad7c-7a1fb380e994",
   "metadata": {},
   "outputs": [
    {
     "data": {
      "text/plain": [
       "'Margo Magenta'"
      ]
     },
     "execution_count": 53,
     "metadata": {},
     "output_type": "execute_result"
    }
   ],
   "source": [
    "name.strip()"
   ]
  },
  {
   "cell_type": "code",
   "execution_count": 54,
   "id": "b7fcc77c-a721-485a-b861-bb71e3bd6aef",
   "metadata": {},
   "outputs": [
    {
     "data": {
      "text/plain": [
       "'Margo Magenta     '"
      ]
     },
     "execution_count": 54,
     "metadata": {},
     "output_type": "execute_result"
    }
   ],
   "source": [
    "name.lstrip()"
   ]
  },
  {
   "cell_type": "code",
   "execution_count": 56,
   "id": "e93d9ce7-2cd5-4a83-b2f5-cb4a6d6d3ad0",
   "metadata": {},
   "outputs": [
    {
     "data": {
      "text/plain": [
       "'     Margo Magenta'"
      ]
     },
     "execution_count": 56,
     "metadata": {},
     "output_type": "execute_result"
    }
   ],
   "source": [
    "name.rstrip()"
   ]
  },
  {
   "cell_type": "markdown",
   "id": "cb8aa19a-ca43-4de2-b703-93ab164a1a5f",
   "metadata": {},
   "source": [
    "#### Chapter 8.5 - Changing Character Case"
   ]
  },
  {
   "cell_type": "code",
   "execution_count": 57,
   "id": "31e4dbf7-037a-4a77-9ed7-e4d63491233f",
   "metadata": {},
   "outputs": [
    {
     "data": {
      "text/plain": [
       "'Happy birthday'"
      ]
     },
     "execution_count": 57,
     "metadata": {},
     "output_type": "execute_result"
    }
   ],
   "source": [
    "'happy birthday'.capitalize()"
   ]
  },
  {
   "cell_type": "code",
   "execution_count": 58,
   "id": "aa3aded5-599b-41b8-a09b-43f6b31c51eb",
   "metadata": {},
   "outputs": [
    {
     "data": {
      "text/plain": [
       "'Stings: A Deeper Look'"
      ]
     },
     "execution_count": 58,
     "metadata": {},
     "output_type": "execute_result"
    }
   ],
   "source": [
    "'stings: a deeper look'.title()"
   ]
  },
  {
   "cell_type": "markdown",
   "id": "ed91b3ec-b8e8-4fd2-92af-ad47cb0df46c",
   "metadata": {},
   "source": [
    "#### Self Check 8.5"
   ]
  },
  {
   "cell_type": "code",
   "execution_count": 59,
   "id": "5261061a-1825-438e-948b-527a5a419922",
   "metadata": {},
   "outputs": [],
   "source": [
    "test_string = 'happy new year'"
   ]
  },
  {
   "cell_type": "code",
   "execution_count": 63,
   "id": "744bc9c4-96e0-4a5e-ad66-a00cb857d19a",
   "metadata": {},
   "outputs": [
    {
     "data": {
      "text/plain": [
       "'Happy new year'"
      ]
     },
     "execution_count": 63,
     "metadata": {},
     "output_type": "execute_result"
    }
   ],
   "source": [
    "test_string.capitalize()"
   ]
  },
  {
   "cell_type": "code",
   "execution_count": 64,
   "id": "c82d6aed-9cf5-4a9c-9257-7bb83096eba3",
   "metadata": {},
   "outputs": [
    {
     "data": {
      "text/plain": [
       "'Happy New Year'"
      ]
     },
     "execution_count": 64,
     "metadata": {},
     "output_type": "execute_result"
    }
   ],
   "source": [
    "test_string.title()"
   ]
  },
  {
   "cell_type": "markdown",
   "id": "9c67f229-c67a-4474-91f8-42d98526ee08",
   "metadata": {},
   "source": [
    "#### Chapter 8.6 - Comparison Operators for Strings"
   ]
  },
  {
   "cell_type": "code",
   "execution_count": 65,
   "id": "746078d7-63ed-4e54-9740-a1504f33cb66",
   "metadata": {},
   "outputs": [
    {
     "name": "stdout",
     "output_type": "stream",
     "text": [
      "A: 65; a: 97\n"
     ]
    }
   ],
   "source": [
    "print(f'A: {ord(\"A\")}; a: {ord(\"a\")}')"
   ]
  },
  {
   "cell_type": "code",
   "execution_count": 66,
   "id": "0f77a573-5fa8-4ca1-9fd9-426db2b75dac",
   "metadata": {},
   "outputs": [
    {
     "data": {
      "text/plain": [
       "False"
      ]
     },
     "execution_count": 66,
     "metadata": {},
     "output_type": "execute_result"
    }
   ],
   "source": [
    "'Orange' == 'orange'"
   ]
  },
  {
   "cell_type": "code",
   "execution_count": 67,
   "id": "f2ade4a7-d6cf-4817-bafd-7e7ebbc36c1a",
   "metadata": {},
   "outputs": [
    {
     "data": {
      "text/plain": [
       "True"
      ]
     },
     "execution_count": 67,
     "metadata": {},
     "output_type": "execute_result"
    }
   ],
   "source": [
    "'Orange' != 'orange'"
   ]
  },
  {
   "cell_type": "code",
   "execution_count": 68,
   "id": "b80a1ce8-73d1-4ca3-ae9e-ef55bafe10f9",
   "metadata": {},
   "outputs": [
    {
     "data": {
      "text/plain": [
       "True"
      ]
     },
     "execution_count": 68,
     "metadata": {},
     "output_type": "execute_result"
    }
   ],
   "source": [
    "'Orange' < 'orange'"
   ]
  },
  {
   "cell_type": "code",
   "execution_count": 69,
   "id": "4b111045-def4-45a6-a656-bae9fffef2a3",
   "metadata": {},
   "outputs": [
    {
     "data": {
      "text/plain": [
       "True"
      ]
     },
     "execution_count": 69,
     "metadata": {},
     "output_type": "execute_result"
    }
   ],
   "source": [
    "'Orange' <= 'orange'"
   ]
  },
  {
   "cell_type": "code",
   "execution_count": 70,
   "id": "6d76f2ee-9725-48cd-b143-9fb9b1486bc3",
   "metadata": {},
   "outputs": [
    {
     "data": {
      "text/plain": [
       "False"
      ]
     },
     "execution_count": 70,
     "metadata": {},
     "output_type": "execute_result"
    }
   ],
   "source": [
    "'Orange' > 'orange'"
   ]
  },
  {
   "cell_type": "code",
   "execution_count": 71,
   "id": "19084bcc-614d-4859-95ba-1561f672d35a",
   "metadata": {},
   "outputs": [
    {
     "data": {
      "text/plain": [
       "False"
      ]
     },
     "execution_count": 71,
     "metadata": {},
     "output_type": "execute_result"
    }
   ],
   "source": [
    "'Orange' >= 'orange'"
   ]
  },
  {
   "cell_type": "markdown",
   "id": "52530dcb-af0b-49df-86db-8d3da3c171b6",
   "metadata": {},
   "source": [
    "#### Chapter 8.7 - Searching for Substrings"
   ]
  },
  {
   "cell_type": "code",
   "execution_count": 72,
   "id": "ad654476-ad28-4e86-8f51-7e091b21b3f3",
   "metadata": {},
   "outputs": [],
   "source": [
    "sentence = 'to be or not to be that is the question'"
   ]
  },
  {
   "cell_type": "code",
   "execution_count": 73,
   "id": "5f28a044-0cb1-4068-b35e-a0e5c1a62cf4",
   "metadata": {},
   "outputs": [
    {
     "data": {
      "text/plain": [
       "2"
      ]
     },
     "execution_count": 73,
     "metadata": {},
     "output_type": "execute_result"
    }
   ],
   "source": [
    "sentence.count('to')"
   ]
  },
  {
   "cell_type": "code",
   "execution_count": 74,
   "id": "7b7128b9-e9a8-403d-9e74-6958469aa930",
   "metadata": {},
   "outputs": [
    {
     "data": {
      "text/plain": [
       "1"
      ]
     },
     "execution_count": 74,
     "metadata": {},
     "output_type": "execute_result"
    }
   ],
   "source": [
    "sentence.count('to', 12)"
   ]
  },
  {
   "cell_type": "code",
   "execution_count": 75,
   "id": "bb48860b-ff9c-44b6-8ab4-47ba2ea78293",
   "metadata": {},
   "outputs": [
    {
     "data": {
      "text/plain": [
       "1"
      ]
     },
     "execution_count": 75,
     "metadata": {},
     "output_type": "execute_result"
    }
   ],
   "source": [
    "sentence.count('that', 12, 25)"
   ]
  },
  {
   "cell_type": "code",
   "execution_count": 76,
   "id": "9c46eac9-9c96-4342-98c4-24d054d569ee",
   "metadata": {},
   "outputs": [
    {
     "data": {
      "text/plain": [
       "3"
      ]
     },
     "execution_count": 76,
     "metadata": {},
     "output_type": "execute_result"
    }
   ],
   "source": [
    "sentence.index('be')"
   ]
  },
  {
   "cell_type": "code",
   "execution_count": 77,
   "id": "af8cdb1a-a95d-4818-9097-0f358b850ff1",
   "metadata": {},
   "outputs": [
    {
     "data": {
      "text/plain": [
       "16"
      ]
     },
     "execution_count": 77,
     "metadata": {},
     "output_type": "execute_result"
    }
   ],
   "source": [
    "sentence.rindex('be')"
   ]
  },
  {
   "cell_type": "code",
   "execution_count": 78,
   "id": "cbcf169a-e6b2-4026-ad3a-492b745cc1fd",
   "metadata": {},
   "outputs": [
    {
     "data": {
      "text/plain": [
       "True"
      ]
     },
     "execution_count": 78,
     "metadata": {},
     "output_type": "execute_result"
    }
   ],
   "source": [
    "'that' in sentence"
   ]
  },
  {
   "cell_type": "code",
   "execution_count": 79,
   "id": "e4ee91b3-277a-4713-9e36-49132ad2afc4",
   "metadata": {},
   "outputs": [
    {
     "data": {
      "text/plain": [
       "False"
      ]
     },
     "execution_count": 79,
     "metadata": {},
     "output_type": "execute_result"
    }
   ],
   "source": [
    "'THAT' in sentence"
   ]
  },
  {
   "cell_type": "code",
   "execution_count": 80,
   "id": "0dc93195-a9e2-4f22-882f-071019b9bd64",
   "metadata": {},
   "outputs": [
    {
     "data": {
      "text/plain": [
       "True"
      ]
     },
     "execution_count": 80,
     "metadata": {},
     "output_type": "execute_result"
    }
   ],
   "source": [
    "'THAT' not in sentence"
   ]
  },
  {
   "cell_type": "code",
   "execution_count": 81,
   "id": "e598b6cc-4366-4948-b38f-6628dfd59dee",
   "metadata": {},
   "outputs": [
    {
     "data": {
      "text/plain": [
       "True"
      ]
     },
     "execution_count": 81,
     "metadata": {},
     "output_type": "execute_result"
    }
   ],
   "source": [
    "sentence.startswith('to')"
   ]
  },
  {
   "cell_type": "code",
   "execution_count": 82,
   "id": "0b41c538-7a24-49b9-a5d5-3225b616ef4e",
   "metadata": {},
   "outputs": [
    {
     "data": {
      "text/plain": [
       "False"
      ]
     },
     "execution_count": 82,
     "metadata": {},
     "output_type": "execute_result"
    }
   ],
   "source": [
    "sentence.startswith('be')"
   ]
  },
  {
   "cell_type": "code",
   "execution_count": 83,
   "id": "652f5b0c-65eb-4ea7-8f46-025aeb1b5d5f",
   "metadata": {},
   "outputs": [
    {
     "data": {
      "text/plain": [
       "True"
      ]
     },
     "execution_count": 83,
     "metadata": {},
     "output_type": "execute_result"
    }
   ],
   "source": [
    "sentence.endswith('question')"
   ]
  },
  {
   "cell_type": "code",
   "execution_count": 84,
   "id": "11d37a5a-75eb-439e-94f2-8d0f19fd7e3b",
   "metadata": {},
   "outputs": [
    {
     "data": {
      "text/plain": [
       "False"
      ]
     },
     "execution_count": 84,
     "metadata": {},
     "output_type": "execute_result"
    }
   ],
   "source": [
    "sentence.endswith('quest')"
   ]
  },
  {
   "cell_type": "markdown",
   "id": "9c16e896-c0a5-4fb0-8f21-9b1eeda2dd17",
   "metadata": {},
   "source": [
    "#### Self Check 8.7"
   ]
  },
  {
   "cell_type": "code",
   "execution_count": 86,
   "id": "065fd24a-32a8-471b-966f-cb452d774e7c",
   "metadata": {},
   "outputs": [
    {
     "name": "stdout",
     "output_type": "stream",
     "text": [
      "to to that the "
     ]
    }
   ],
   "source": [
    "for word in 'to be or not to be that is the question'.split():\n",
    "    if word.startswith('t'):\n",
    "        print(word, end=' ')"
   ]
  },
  {
   "cell_type": "markdown",
   "id": "34e07c5c-8023-47b2-94aa-ccfff3354725",
   "metadata": {},
   "source": [
    "#### Chapter 8.8 - Replacing Strings"
   ]
  },
  {
   "cell_type": "code",
   "execution_count": 87,
   "id": "bcc3c25b-f033-45ba-9004-1a6c1f4c02b5",
   "metadata": {},
   "outputs": [],
   "source": [
    "values = '1\\t2\\t3\\t4\\t5'"
   ]
  },
  {
   "cell_type": "code",
   "execution_count": 89,
   "id": "7b657151-fc97-4961-ae93-3b18fb60c099",
   "metadata": {},
   "outputs": [
    {
     "data": {
      "text/plain": [
       "'1\\t2\\t3\\t4\\t5'"
      ]
     },
     "execution_count": 89,
     "metadata": {},
     "output_type": "execute_result"
    }
   ],
   "source": [
    "values"
   ]
  },
  {
   "cell_type": "code",
   "execution_count": 88,
   "id": "8658574a-88d8-4350-a228-06a22e880cdc",
   "metadata": {},
   "outputs": [
    {
     "data": {
      "text/plain": [
       "'1,2,3,4,5'"
      ]
     },
     "execution_count": 88,
     "metadata": {},
     "output_type": "execute_result"
    }
   ],
   "source": [
    "values.replace('\\t', ',')"
   ]
  },
  {
   "cell_type": "markdown",
   "id": "f788e53f-f1f2-4ac3-babb-81a5ffcbd9fd",
   "metadata": {},
   "source": [
    "#### Self Check 8.8"
   ]
  },
  {
   "cell_type": "code",
   "execution_count": 90,
   "id": "19d77e11-f897-49f4-8c2b-4a2931a2c117",
   "metadata": {},
   "outputs": [
    {
     "data": {
      "text/plain": [
       "'1--> 2--> 3--> 4--> 5'"
      ]
     },
     "execution_count": 90,
     "metadata": {},
     "output_type": "execute_result"
    }
   ],
   "source": [
    "'1 2 3 4 5'.replace(' ', '--> ')"
   ]
  },
  {
   "cell_type": "markdown",
   "id": "9bb1008e-011a-4215-b666-601a83645db8",
   "metadata": {},
   "source": [
    "#### Chapter 8.9 - Splitting and Joining Strings"
   ]
  },
  {
   "cell_type": "code",
   "execution_count": 91,
   "id": "b221a1be-232e-422a-b2de-3b62c8f1b8b5",
   "metadata": {},
   "outputs": [],
   "source": [
    "letters = 'A, B, C, D'"
   ]
  },
  {
   "cell_type": "code",
   "execution_count": 92,
   "id": "664c03f4-1ef8-4c9c-a29b-45bc353164ad",
   "metadata": {},
   "outputs": [
    {
     "data": {
      "text/plain": [
       "['A', 'B', 'C', 'D']"
      ]
     },
     "execution_count": 92,
     "metadata": {},
     "output_type": "execute_result"
    }
   ],
   "source": [
    "letters.split(', ')"
   ]
  },
  {
   "cell_type": "code",
   "execution_count": 94,
   "id": "d79a9324-836e-413b-9bd0-91ccf58e2766",
   "metadata": {},
   "outputs": [
    {
     "data": {
      "text/plain": [
       "['A', 'B', 'C, D']"
      ]
     },
     "execution_count": 94,
     "metadata": {},
     "output_type": "execute_result"
    }
   ],
   "source": [
    "letters.split(', ', 2)"
   ]
  },
  {
   "cell_type": "code",
   "execution_count": 95,
   "id": "39410eeb-64d0-45b5-a151-f2e6555bf034",
   "metadata": {},
   "outputs": [],
   "source": [
    "letters_list = ['A','B','C','D']"
   ]
  },
  {
   "cell_type": "code",
   "execution_count": 96,
   "id": "b418627d-5c9e-4fa9-bce1-c26cb5683b20",
   "metadata": {},
   "outputs": [
    {
     "data": {
      "text/plain": [
       "'A,B,C,D'"
      ]
     },
     "execution_count": 96,
     "metadata": {},
     "output_type": "execute_result"
    }
   ],
   "source": [
    "','.join(letters_list)"
   ]
  },
  {
   "cell_type": "code",
   "execution_count": 97,
   "id": "03be83fe-6807-4d74-a571-11758aeef188",
   "metadata": {},
   "outputs": [
    {
     "data": {
      "text/plain": [
       "'0,1,2,3,4,5,6,7,8,9'"
      ]
     },
     "execution_count": 97,
     "metadata": {},
     "output_type": "execute_result"
    }
   ],
   "source": [
    "','.join([str(i) for i in range(10)])"
   ]
  },
  {
   "cell_type": "code",
   "execution_count": 98,
   "id": "639f5aef-d926-454b-ad3b-35d0078105c7",
   "metadata": {},
   "outputs": [
    {
     "data": {
      "text/plain": [
       "('Amanda', ': ', '89, 97, 92')"
      ]
     },
     "execution_count": 98,
     "metadata": {},
     "output_type": "execute_result"
    }
   ],
   "source": [
    "'Amanda: 89, 97, 92'.partition(': ')"
   ]
  },
  {
   "cell_type": "code",
   "execution_count": 99,
   "id": "f2a41daf-c57e-41df-8807-4a5a8d1f59ea",
   "metadata": {},
   "outputs": [],
   "source": [
    "url = 'http://www.deitel.com/books/PyCDS/table_of_contents.html'"
   ]
  },
  {
   "cell_type": "code",
   "execution_count": 100,
   "id": "cac329a3-57b1-46f2-9fd8-2cac4d28d570",
   "metadata": {},
   "outputs": [],
   "source": [
    "rest_of_url, separator, document = url.rpartition('/')"
   ]
  },
  {
   "cell_type": "code",
   "execution_count": 101,
   "id": "4a0e2731-edea-4f03-9794-34649fcf9429",
   "metadata": {},
   "outputs": [
    {
     "data": {
      "text/plain": [
       "'table_of_contents.html'"
      ]
     },
     "execution_count": 101,
     "metadata": {},
     "output_type": "execute_result"
    }
   ],
   "source": [
    "document"
   ]
  },
  {
   "cell_type": "code",
   "execution_count": 102,
   "id": "8b236bca-618d-4e24-8f67-50b6e9d5b7f1",
   "metadata": {},
   "outputs": [
    {
     "data": {
      "text/plain": [
       "'http://www.deitel.com/books/PyCDS'"
      ]
     },
     "execution_count": 102,
     "metadata": {},
     "output_type": "execute_result"
    }
   ],
   "source": [
    "rest_of_url"
   ]
  },
  {
   "cell_type": "code",
   "execution_count": 103,
   "id": "4e7caf7b-8c66-40cc-af0c-75710d5c2ce0",
   "metadata": {},
   "outputs": [],
   "source": [
    "lines = \"\"\"This is line 1\n",
    "This is line 2\n",
    "This is line 3\"\"\""
   ]
  },
  {
   "cell_type": "code",
   "execution_count": 104,
   "id": "247844b9-1ddb-40dc-ad89-8ea05d83893c",
   "metadata": {},
   "outputs": [
    {
     "data": {
      "text/plain": [
       "'This is line 1\\nThis is line 2\\nThis is line 3'"
      ]
     },
     "execution_count": 104,
     "metadata": {},
     "output_type": "execute_result"
    }
   ],
   "source": [
    "lines"
   ]
  },
  {
   "cell_type": "code",
   "execution_count": 105,
   "id": "added8c9-96bb-4c00-becf-25f62408ebb3",
   "metadata": {},
   "outputs": [
    {
     "data": {
      "text/plain": [
       "['This is line 1', 'This is line 2', 'This is line 3']"
      ]
     },
     "execution_count": 105,
     "metadata": {},
     "output_type": "execute_result"
    }
   ],
   "source": [
    "lines.splitlines()"
   ]
  },
  {
   "cell_type": "code",
   "execution_count": 106,
   "id": "a1112cf3-3548-4ca0-b934-ead3fba9c085",
   "metadata": {},
   "outputs": [
    {
     "data": {
      "text/plain": [
       "['This is line 1\\n', 'This is line 2\\n', 'This is line 3']"
      ]
     },
     "execution_count": 106,
     "metadata": {},
     "output_type": "execute_result"
    }
   ],
   "source": [
    "lines.splitlines(True)"
   ]
  },
  {
   "cell_type": "markdown",
   "id": "d5b7d10f-1905-49a5-a11f-8a6a32e5fe10",
   "metadata": {},
   "source": [
    "#### Self Check 8.9"
   ]
  },
  {
   "cell_type": "code",
   "execution_count": 107,
   "id": "10e9898c-4e67-4ee3-b791-6a61a82947d2",
   "metadata": {},
   "outputs": [
    {
     "data": {
      "text/plain": [
       "'White, Pamela'"
      ]
     },
     "execution_count": 107,
     "metadata": {},
     "output_type": "execute_result"
    }
   ],
   "source": [
    "', '.join(reversed('Pamela White'.split()))"
   ]
  },
  {
   "cell_type": "code",
   "execution_count": 108,
   "id": "87e75c06-3fc8-4186-a4eb-7fac2d71998c",
   "metadata": {},
   "outputs": [],
   "source": [
    "url = 'http://www.deitel.com/books/PyCDS/table_of_contents.html'"
   ]
  },
  {
   "cell_type": "code",
   "execution_count": 109,
   "id": "7e0a082b-605b-451c-8352-154b7c56c8dc",
   "metadata": {},
   "outputs": [],
   "source": [
    "protocol, separator, rest_of_url = url.partition('://')"
   ]
  },
  {
   "cell_type": "code",
   "execution_count": 110,
   "id": "27f764d0-63e6-42d6-b663-9a8a5eadd43e",
   "metadata": {},
   "outputs": [],
   "source": [
    "host, separator, document_with_path = rest_of_url.partition('/')"
   ]
  },
  {
   "cell_type": "code",
   "execution_count": 111,
   "id": "02bc3422-8a43-410a-9339-09b40777f3ab",
   "metadata": {},
   "outputs": [
    {
     "data": {
      "text/plain": [
       "'www.deitel.com'"
      ]
     },
     "execution_count": 111,
     "metadata": {},
     "output_type": "execute_result"
    }
   ],
   "source": [
    "host"
   ]
  },
  {
   "cell_type": "code",
   "execution_count": 112,
   "id": "bb6cb5d2-f289-4c07-949d-f351962520ad",
   "metadata": {},
   "outputs": [],
   "source": [
    "path, separator, document = document_with_path.rpartition('/')"
   ]
  },
  {
   "cell_type": "code",
   "execution_count": 113,
   "id": "e66f7730-f6be-4981-984b-fabb50cc00f1",
   "metadata": {},
   "outputs": [
    {
     "data": {
      "text/plain": [
       "'books/PyCDS'"
      ]
     },
     "execution_count": 113,
     "metadata": {},
     "output_type": "execute_result"
    }
   ],
   "source": [
    "path"
   ]
  },
  {
   "cell_type": "markdown",
   "id": "89141de1-b6ef-444d-b425-1041c2cfafed",
   "metadata": {},
   "source": [
    "#### Chapter 8.10 - Characters and Character-Testing Methods"
   ]
  },
  {
   "cell_type": "code",
   "execution_count": 116,
   "id": "86bc36f4-0954-4fd4-a570-86aff4944ff1",
   "metadata": {},
   "outputs": [
    {
     "data": {
      "text/plain": [
       "False"
      ]
     },
     "execution_count": 116,
     "metadata": {},
     "output_type": "execute_result"
    }
   ],
   "source": [
    "'-27'.isdigit()"
   ]
  },
  {
   "cell_type": "code",
   "execution_count": 117,
   "id": "715a349e-877f-4a5b-9f82-9cfe367781ff",
   "metadata": {},
   "outputs": [
    {
     "data": {
      "text/plain": [
       "True"
      ]
     },
     "execution_count": 117,
     "metadata": {},
     "output_type": "execute_result"
    }
   ],
   "source": [
    "'27'.isdigit()"
   ]
  },
  {
   "cell_type": "code",
   "execution_count": 118,
   "id": "d9500537-9949-4b62-95ba-8eb8fe9293b8",
   "metadata": {},
   "outputs": [
    {
     "data": {
      "text/plain": [
       "True"
      ]
     },
     "execution_count": 118,
     "metadata": {},
     "output_type": "execute_result"
    }
   ],
   "source": [
    "'A9876'.isalnum()"
   ]
  },
  {
   "cell_type": "code",
   "execution_count": 119,
   "id": "77a0410d-fe12-41c6-9738-f435b7eedaa8",
   "metadata": {},
   "outputs": [
    {
     "data": {
      "text/plain": [
       "False"
      ]
     },
     "execution_count": 119,
     "metadata": {},
     "output_type": "execute_result"
    }
   ],
   "source": [
    "'123 Main Street'.isalnum()"
   ]
  },
  {
   "cell_type": "markdown",
   "id": "2acdcf90-6007-48b5-890a-a8c9ee56b44e",
   "metadata": {},
   "source": [
    "#### Chapter 8.11 - Raw Strings"
   ]
  },
  {
   "cell_type": "code",
   "execution_count": 126,
   "id": "94180990-9f2e-4e91-a170-83ff64251bc2",
   "metadata": {},
   "outputs": [],
   "source": [
    "file_path = 'C:\\\\MyFolder\\\\MySubfolder\\\\MyFile.txt'"
   ]
  },
  {
   "cell_type": "code",
   "execution_count": 127,
   "id": "160e1f44-c82f-41e1-81dc-04ca7f8a1831",
   "metadata": {},
   "outputs": [
    {
     "data": {
      "text/plain": [
       "'C:\\\\MyFolder\\\\MySubfolder\\\\MyFile.txt'"
      ]
     },
     "execution_count": 127,
     "metadata": {},
     "output_type": "execute_result"
    }
   ],
   "source": [
    "file_path"
   ]
  },
  {
   "cell_type": "code",
   "execution_count": 130,
   "id": "62cb14cf-da42-47b9-882b-a2d4da1654d1",
   "metadata": {},
   "outputs": [],
   "source": [
    "file_path = r'C:\\MyFolder\\MySubfolder\\MyFile.txt'"
   ]
  },
  {
   "cell_type": "code",
   "execution_count": 131,
   "id": "22b69c05-1a7d-45aa-966c-29491ede3c67",
   "metadata": {},
   "outputs": [
    {
     "data": {
      "text/plain": [
       "'C:\\\\MyFolder\\\\MySubfolder\\\\MyFile.txt'"
      ]
     },
     "execution_count": 131,
     "metadata": {},
     "output_type": "execute_result"
    }
   ],
   "source": [
    "file_path"
   ]
  },
  {
   "cell_type": "markdown",
   "id": "fcd08a34-8682-46bf-a86b-9ce1f1c64743",
   "metadata": {},
   "source": [
    "#### Chapter 8.12 - Introduction to Regular Expressions"
   ]
  },
  {
   "cell_type": "code",
   "execution_count": 132,
   "id": "83e264d9-1447-4be4-992d-b7a91eb07283",
   "metadata": {},
   "outputs": [],
   "source": [
    "import re"
   ]
  },
  {
   "cell_type": "code",
   "execution_count": 133,
   "id": "4899ad9e-155d-499e-966d-cb9de1105c8b",
   "metadata": {},
   "outputs": [],
   "source": [
    "pattern = '02215'"
   ]
  },
  {
   "cell_type": "code",
   "execution_count": 135,
   "id": "feb230ca-4227-4069-800d-67615a1f8d8b",
   "metadata": {},
   "outputs": [
    {
     "data": {
      "text/plain": [
       "'Match'"
      ]
     },
     "execution_count": 135,
     "metadata": {},
     "output_type": "execute_result"
    }
   ],
   "source": [
    "'Match' if re.fullmatch(pattern, '02215') else 'No Match'"
   ]
  },
  {
   "cell_type": "code",
   "execution_count": 136,
   "id": "2c582ff6-276a-4f6e-8d58-fa58a3971222",
   "metadata": {},
   "outputs": [
    {
     "data": {
      "text/plain": [
       "'No Match'"
      ]
     },
     "execution_count": 136,
     "metadata": {},
     "output_type": "execute_result"
    }
   ],
   "source": [
    "'Match' if re.fullmatch(pattern, '51220') else 'No Match'"
   ]
  },
  {
   "cell_type": "code",
   "execution_count": 137,
   "id": "c5864af0-e271-491f-94e4-9f7461ad0c6d",
   "metadata": {},
   "outputs": [
    {
     "data": {
      "text/plain": [
       "'Valid'"
      ]
     },
     "execution_count": 137,
     "metadata": {},
     "output_type": "execute_result"
    }
   ],
   "source": [
    "'Valid' if re.fullmatch(r'\\d{5}', '02215') else 'Invalid'"
   ]
  },
  {
   "cell_type": "code",
   "execution_count": 138,
   "id": "363d507c-cb3e-4952-9a8a-bf27db91c1bf",
   "metadata": {},
   "outputs": [
    {
     "data": {
      "text/plain": [
       "'Invalid'"
      ]
     },
     "execution_count": 138,
     "metadata": {},
     "output_type": "execute_result"
    }
   ],
   "source": [
    "'Valid' if re.fullmatch(r'\\d{5}', '9876') else 'Invalid'"
   ]
  },
  {
   "cell_type": "code",
   "execution_count": 139,
   "id": "434460ee-07bf-475a-baa9-1fde7213d502",
   "metadata": {},
   "outputs": [
    {
     "data": {
      "text/plain": [
       "'Valid'"
      ]
     },
     "execution_count": 139,
     "metadata": {},
     "output_type": "execute_result"
    }
   ],
   "source": [
    "'Valid' if re.fullmatch('[A-Z][a-z]*', 'Wally') else 'Invalid'"
   ]
  },
  {
   "cell_type": "code",
   "execution_count": 140,
   "id": "5722ebd5-8ad6-4caf-b724-a0ea7ab0b4c0",
   "metadata": {},
   "outputs": [
    {
     "data": {
      "text/plain": [
       "'Invalid'"
      ]
     },
     "execution_count": 140,
     "metadata": {},
     "output_type": "execute_result"
    }
   ],
   "source": [
    "'Valid' if re.fullmatch('[A-Z][a-z]*', 'eva') else 'Invalid'"
   ]
  },
  {
   "cell_type": "code",
   "execution_count": 141,
   "id": "196989fd-9ef8-49a1-a6b2-9e8bd238ffda",
   "metadata": {},
   "outputs": [
    {
     "data": {
      "text/plain": [
       "'Match'"
      ]
     },
     "execution_count": 141,
     "metadata": {},
     "output_type": "execute_result"
    }
   ],
   "source": [
    "'Match' if re.fullmatch('[^a-z]', 'A') else 'No Match'"
   ]
  },
  {
   "cell_type": "code",
   "execution_count": 142,
   "id": "19a8866e-d53a-4268-9979-5c004c115a54",
   "metadata": {},
   "outputs": [
    {
     "data": {
      "text/plain": [
       "'No Match'"
      ]
     },
     "execution_count": 142,
     "metadata": {},
     "output_type": "execute_result"
    }
   ],
   "source": [
    "'Match' if re.fullmatch('[^a-z]', 'a') else 'No Match'"
   ]
  },
  {
   "cell_type": "code",
   "execution_count": 143,
   "id": "3bc6d9da-842f-42eb-a24b-1c0bf5c720c8",
   "metadata": {},
   "outputs": [
    {
     "data": {
      "text/plain": [
       "'Match'"
      ]
     },
     "execution_count": 143,
     "metadata": {},
     "output_type": "execute_result"
    }
   ],
   "source": [
    "'Match' if re.fullmatch('[*+$]', '*') else 'No Match'"
   ]
  },
  {
   "cell_type": "code",
   "execution_count": 144,
   "id": "fd54f5b4-a8b3-451a-b8b4-8d6e8c8b8a19",
   "metadata": {},
   "outputs": [
    {
     "data": {
      "text/plain": [
       "'No Match'"
      ]
     },
     "execution_count": 144,
     "metadata": {},
     "output_type": "execute_result"
    }
   ],
   "source": [
    "'Match' if re.fullmatch('[*+$]', '!') else 'No Match'"
   ]
  },
  {
   "cell_type": "code",
   "execution_count": 145,
   "id": "48b54caa-e304-41a1-b770-b046abc9cc95",
   "metadata": {},
   "outputs": [
    {
     "data": {
      "text/plain": [
       "'Valid'"
      ]
     },
     "execution_count": 145,
     "metadata": {},
     "output_type": "execute_result"
    }
   ],
   "source": [
    "'Valid' if re.fullmatch('[A-Z][a-z]+', 'Wally') else 'Invalid'"
   ]
  },
  {
   "cell_type": "code",
   "execution_count": 146,
   "id": "4ee6a874-6a3a-478a-acf6-ae1302e8ec01",
   "metadata": {},
   "outputs": [
    {
     "data": {
      "text/plain": [
       "'Invalid'"
      ]
     },
     "execution_count": 146,
     "metadata": {},
     "output_type": "execute_result"
    }
   ],
   "source": [
    "'Valid' if re.fullmatch('[A-Z][a-z]+', 'E') else 'Invalid'"
   ]
  },
  {
   "cell_type": "code",
   "execution_count": 148,
   "id": "124a7f67-d262-4336-8902-7cd762aaa0d0",
   "metadata": {},
   "outputs": [
    {
     "data": {
      "text/plain": [
       "'Match'"
      ]
     },
     "execution_count": 148,
     "metadata": {},
     "output_type": "execute_result"
    }
   ],
   "source": [
    "'Match' if re.fullmatch('labell?ed', 'labelled') else 'No Match'"
   ]
  },
  {
   "cell_type": "code",
   "execution_count": 149,
   "id": "b097f832-aea1-4661-8fe5-082244dca0f9",
   "metadata": {},
   "outputs": [
    {
     "data": {
      "text/plain": [
       "'Match'"
      ]
     },
     "execution_count": 149,
     "metadata": {},
     "output_type": "execute_result"
    }
   ],
   "source": [
    "'Match' if re.fullmatch('labell?ed', 'labeled') else 'No Match'"
   ]
  },
  {
   "cell_type": "code",
   "execution_count": 150,
   "id": "392c546d-ae7e-4798-9ca3-ca78abfb32df",
   "metadata": {},
   "outputs": [
    {
     "data": {
      "text/plain": [
       "'No Match'"
      ]
     },
     "execution_count": 150,
     "metadata": {},
     "output_type": "execute_result"
    }
   ],
   "source": [
    "'Match' if re.fullmatch('labell?ed', 'labellled') else 'No Match'"
   ]
  },
  {
   "cell_type": "code",
   "execution_count": 151,
   "id": "60fd579f-54cf-4890-889c-adbf97c8b78b",
   "metadata": {},
   "outputs": [
    {
     "data": {
      "text/plain": [
       "'Match'"
      ]
     },
     "execution_count": 151,
     "metadata": {},
     "output_type": "execute_result"
    }
   ],
   "source": [
    "'Match' if re.fullmatch(r'\\d{3,}', '123') else 'No Match'"
   ]
  },
  {
   "cell_type": "code",
   "execution_count": 152,
   "id": "bd116510-a93a-4d1d-9c12-1c04982062b0",
   "metadata": {},
   "outputs": [
    {
     "data": {
      "text/plain": [
       "'Match'"
      ]
     },
     "execution_count": 152,
     "metadata": {},
     "output_type": "execute_result"
    }
   ],
   "source": [
    "'Match' if re.fullmatch(r'\\d{3,}', '1234567890') else 'No Match'"
   ]
  },
  {
   "cell_type": "code",
   "execution_count": 153,
   "id": "c3beeacd-0c42-41f1-90cb-6f5a546dcd58",
   "metadata": {},
   "outputs": [
    {
     "data": {
      "text/plain": [
       "'No Match'"
      ]
     },
     "execution_count": 153,
     "metadata": {},
     "output_type": "execute_result"
    }
   ],
   "source": [
    "'Match' if re.fullmatch(r'\\d{3,}', '12') else 'No Match'"
   ]
  },
  {
   "cell_type": "code",
   "execution_count": 154,
   "id": "106cbea7-9e72-4a5c-a99e-249b5de62ad7",
   "metadata": {},
   "outputs": [
    {
     "data": {
      "text/plain": [
       "'Match'"
      ]
     },
     "execution_count": 154,
     "metadata": {},
     "output_type": "execute_result"
    }
   ],
   "source": [
    "'Match' if re.fullmatch(r'\\d{3,6}', '123') else 'No Match'"
   ]
  },
  {
   "cell_type": "code",
   "execution_count": 155,
   "id": "d46a4160-bdcc-4740-9360-9e7c2047a5d2",
   "metadata": {},
   "outputs": [
    {
     "data": {
      "text/plain": [
       "'Match'"
      ]
     },
     "execution_count": 155,
     "metadata": {},
     "output_type": "execute_result"
    }
   ],
   "source": [
    "'Match' if re.fullmatch(r'\\d{3,6}', '123456') else 'No Match'"
   ]
  },
  {
   "cell_type": "code",
   "execution_count": 156,
   "id": "8a226904-0ada-4e1c-960d-bea18eab6ea8",
   "metadata": {},
   "outputs": [
    {
     "data": {
      "text/plain": [
       "'No Match'"
      ]
     },
     "execution_count": 156,
     "metadata": {},
     "output_type": "execute_result"
    }
   ],
   "source": [
    "'Match' if re.fullmatch(r'\\d{3,6}', '1234567') else 'No Match'"
   ]
  },
  {
   "cell_type": "code",
   "execution_count": 157,
   "id": "798173de-1b92-41b5-b0ed-190bcbb36948",
   "metadata": {},
   "outputs": [
    {
     "data": {
      "text/plain": [
       "'No Match'"
      ]
     },
     "execution_count": 157,
     "metadata": {},
     "output_type": "execute_result"
    }
   ],
   "source": [
    "'Match' if re.fullmatch(r'\\d{3,6}', '12') else 'No Match'"
   ]
  },
  {
   "cell_type": "markdown",
   "id": "84a1aed3-f038-4e92-b4e6-51901280e0ad",
   "metadata": {},
   "source": [
    "#### Self Check 8.12.1"
   ]
  },
  {
   "cell_type": "code",
   "execution_count": 158,
   "id": "835debcd-fb9d-4d38-ba22-717248c48bcb",
   "metadata": {},
   "outputs": [],
   "source": [
    "import re"
   ]
  },
  {
   "cell_type": "code",
   "execution_count": 159,
   "id": "5f7d31e0-3713-4398-a58f-1c9b959cbc51",
   "metadata": {},
   "outputs": [],
   "source": [
    "street = r'\\d+ [A-Z][a-z]* [A-Z][a-z]*'"
   ]
  },
  {
   "cell_type": "code",
   "execution_count": 160,
   "id": "0ef4f678-83db-4205-acb9-a5f9c31848ff",
   "metadata": {},
   "outputs": [
    {
     "data": {
      "text/plain": [
       "'Match'"
      ]
     },
     "execution_count": 160,
     "metadata": {},
     "output_type": "execute_result"
    }
   ],
   "source": [
    "'Match' if re.fullmatch(street, '123 Main Street') else 'No Match'"
   ]
  },
  {
   "cell_type": "code",
   "execution_count": 161,
   "id": "18163e96-370d-476d-9d8f-43121bb104d8",
   "metadata": {},
   "outputs": [
    {
     "data": {
      "text/plain": [
       "'No Match'"
      ]
     },
     "execution_count": 161,
     "metadata": {},
     "output_type": "execute_result"
    }
   ],
   "source": [
    "'Match' if re.fullmatch(street, 'Main Street') else 'No Match'"
   ]
  },
  {
   "cell_type": "markdown",
   "id": "c86695bf-c56f-417f-be60-743acd1aab10",
   "metadata": {},
   "source": [
    "#### Chapter 8.12.2"
   ]
  },
  {
   "cell_type": "code",
   "execution_count": 162,
   "id": "f9364a5e-73e9-433c-bd92-3bd8c1f975eb",
   "metadata": {},
   "outputs": [],
   "source": [
    "import re"
   ]
  },
  {
   "cell_type": "code",
   "execution_count": 163,
   "id": "e1c71e89-2dfd-40fc-8d32-85d429337135",
   "metadata": {},
   "outputs": [
    {
     "data": {
      "text/plain": [
       "'1, 2, 3, 4'"
      ]
     },
     "execution_count": 163,
     "metadata": {},
     "output_type": "execute_result"
    }
   ],
   "source": [
    "re.sub(r'\\t', ', ', '1\\t2\\t3\\t4')"
   ]
  },
  {
   "cell_type": "code",
   "execution_count": 164,
   "id": "33ec8cb9-da7a-4007-8536-8692075e8f3e",
   "metadata": {},
   "outputs": [
    {
     "data": {
      "text/plain": [
       "'1, 2, 3\\t4'"
      ]
     },
     "execution_count": 164,
     "metadata": {},
     "output_type": "execute_result"
    }
   ],
   "source": [
    "re.sub(r'\\t', ', ', '1\\t2\\t3\\t4', count=2)"
   ]
  },
  {
   "cell_type": "code",
   "execution_count": 165,
   "id": "ebcf5971-29d8-42dc-b522-2765f681b44b",
   "metadata": {},
   "outputs": [
    {
     "data": {
      "text/plain": [
       "['1', '2', '3', '4', '5', '6', '7', '8']"
      ]
     },
     "execution_count": 165,
     "metadata": {},
     "output_type": "execute_result"
    }
   ],
   "source": [
    "re.split(r',\\s*', '1, 2, 3,4,  5,6,7,8')"
   ]
  },
  {
   "cell_type": "code",
   "execution_count": 166,
   "id": "cc8996ef-24cb-4f34-8c1e-5d6134faba18",
   "metadata": {},
   "outputs": [
    {
     "data": {
      "text/plain": [
       "['1', '2', '3', '4,  5,6,7,8']"
      ]
     },
     "execution_count": 166,
     "metadata": {},
     "output_type": "execute_result"
    }
   ],
   "source": [
    "re.split(r',\\s*', '1, 2, 3,4,  5,6,7,8', maxsplit=3)"
   ]
  },
  {
   "cell_type": "markdown",
   "id": "f71a6701-82b6-4c6a-9d07-c9d33e138a13",
   "metadata": {},
   "source": [
    "#### Self Check 8.12.2"
   ]
  },
  {
   "cell_type": "code",
   "execution_count": 167,
   "id": "70c37826-68e7-4663-9449-ac6144b93ca2",
   "metadata": {},
   "outputs": [],
   "source": [
    "import re"
   ]
  },
  {
   "cell_type": "code",
   "execution_count": 168,
   "id": "179e6c3b-19d9-4b00-86d2-575d39e121fe",
   "metadata": {},
   "outputs": [
    {
     "data": {
      "text/plain": [
       "'A, B, C, D'"
      ]
     },
     "execution_count": 168,
     "metadata": {},
     "output_type": "execute_result"
    }
   ],
   "source": [
    "re.sub(r'\\t+', ', ', 'A\\tB\\tC\\t\\t\\tD')"
   ]
  },
  {
   "cell_type": "code",
   "execution_count": 170,
   "id": "3a21422e-0990-4ee3-9daa-95824c76292b",
   "metadata": {},
   "outputs": [
    {
     "data": {
      "text/plain": [
       "['123', 'Main', 'Street']"
      ]
     },
     "execution_count": 170,
     "metadata": {},
     "output_type": "execute_result"
    }
   ],
   "source": [
    "re.split('\\$+', '123$Main$$Street')"
   ]
  },
  {
   "cell_type": "markdown",
   "id": "90b07ce3-8ced-4981-9b78-79e889064e73",
   "metadata": {},
   "source": [
    "#### Chapter 8.12.3"
   ]
  },
  {
   "cell_type": "code",
   "execution_count": 171,
   "id": "d3a5c931-a7b7-4b5b-9a9d-9cbe201c1d07",
   "metadata": {},
   "outputs": [],
   "source": [
    "import re"
   ]
  },
  {
   "cell_type": "code",
   "execution_count": 172,
   "id": "98efe077-5ee2-473c-a602-16081a62fc07",
   "metadata": {},
   "outputs": [],
   "source": [
    "result = re.search('Python', 'Python is fun')"
   ]
  },
  {
   "cell_type": "code",
   "execution_count": 173,
   "id": "c8506ebd-234d-49e8-9798-febda34beb94",
   "metadata": {},
   "outputs": [
    {
     "data": {
      "text/plain": [
       "'Python'"
      ]
     },
     "execution_count": 173,
     "metadata": {},
     "output_type": "execute_result"
    }
   ],
   "source": [
    "result.group() if result else 'not found'"
   ]
  },
  {
   "cell_type": "code",
   "execution_count": 174,
   "id": "6e44282f-2ce0-40f5-971f-ceea3ef4f2c1",
   "metadata": {},
   "outputs": [],
   "source": [
    "result2 = re.search('fun!', 'Python is fun')"
   ]
  },
  {
   "cell_type": "code",
   "execution_count": 177,
   "id": "17750aeb-ca22-4f85-b8f2-593a88426d34",
   "metadata": {},
   "outputs": [
    {
     "data": {
      "text/plain": [
       "'not found'"
      ]
     },
     "execution_count": 177,
     "metadata": {},
     "output_type": "execute_result"
    }
   ],
   "source": [
    "result2.group() if result2 else 'not found'"
   ]
  },
  {
   "cell_type": "code",
   "execution_count": 179,
   "id": "e694a688-9611-4209-95da-4edf5d59c357",
   "metadata": {},
   "outputs": [],
   "source": [
    "result3 = re.search('Sam', 'SAM WHITE', flags=re.IGNORECASE)"
   ]
  },
  {
   "cell_type": "code",
   "execution_count": 180,
   "id": "00846b5a-388a-4eb0-ba99-9df0c79494fe",
   "metadata": {},
   "outputs": [
    {
     "data": {
      "text/plain": [
       "'SAM'"
      ]
     },
     "execution_count": 180,
     "metadata": {},
     "output_type": "execute_result"
    }
   ],
   "source": [
    "result3.group() if result3 else 'not found'"
   ]
  },
  {
   "cell_type": "code",
   "execution_count": 181,
   "id": "46695a02-526f-472a-b75e-f6c6b556f189",
   "metadata": {},
   "outputs": [],
   "source": [
    "result = re.search('^Python', 'Python is fun')"
   ]
  },
  {
   "cell_type": "code",
   "execution_count": 182,
   "id": "78df7565-0083-4782-8f39-289f2684c28c",
   "metadata": {},
   "outputs": [
    {
     "data": {
      "text/plain": [
       "'Python'"
      ]
     },
     "execution_count": 182,
     "metadata": {},
     "output_type": "execute_result"
    }
   ],
   "source": [
    "result.group() if result else 'not found'"
   ]
  },
  {
   "cell_type": "code",
   "execution_count": 184,
   "id": "5c443eee-bdd7-458b-a681-7ae949f33784",
   "metadata": {},
   "outputs": [],
   "source": [
    "result2 = re.search('^fun', 'Python is fun')"
   ]
  },
  {
   "cell_type": "code",
   "execution_count": 185,
   "id": "25f6af89-dbae-4c2f-b45b-bb8b86f71b61",
   "metadata": {},
   "outputs": [
    {
     "data": {
      "text/plain": [
       "'not found'"
      ]
     },
     "execution_count": 185,
     "metadata": {},
     "output_type": "execute_result"
    }
   ],
   "source": [
    "result2.group() if result2 else 'not found'"
   ]
  },
  {
   "cell_type": "code",
   "execution_count": 193,
   "id": "05ef4173-09ce-4fbf-9438-b2b1e6ee2d7d",
   "metadata": {},
   "outputs": [],
   "source": [
    "result = re.search('Python$', 'Python is fun')"
   ]
  },
  {
   "cell_type": "code",
   "execution_count": 194,
   "id": "efc23b1a-986d-4def-9bac-f69b2094b6e9",
   "metadata": {},
   "outputs": [
    {
     "data": {
      "text/plain": [
       "'not found'"
      ]
     },
     "execution_count": 194,
     "metadata": {},
     "output_type": "execute_result"
    }
   ],
   "source": [
    "result.group() if result else 'not found'"
   ]
  },
  {
   "cell_type": "code",
   "execution_count": 195,
   "id": "f9003609-3e3b-410f-b0bd-792e2e18b7e2",
   "metadata": {},
   "outputs": [],
   "source": [
    "result2 = re.search('fun$', 'Python is fun')"
   ]
  },
  {
   "cell_type": "code",
   "execution_count": 196,
   "id": "f1cac73e-c7a4-4bb3-8ee4-96ad8e01ced9",
   "metadata": {},
   "outputs": [
    {
     "data": {
      "text/plain": [
       "'fun'"
      ]
     },
     "execution_count": 196,
     "metadata": {},
     "output_type": "execute_result"
    }
   ],
   "source": [
    "result2.group() if result2 else 'not found'"
   ]
  },
  {
   "cell_type": "code",
   "execution_count": 197,
   "id": "66a08859-82b8-41f6-8b0d-199cbefca14d",
   "metadata": {},
   "outputs": [],
   "source": [
    "contact = 'Wally White, home: 555-555-1234, Work: 555-555-4321'"
   ]
  },
  {
   "cell_type": "code",
   "execution_count": 199,
   "id": "173ef2d0-9f39-410b-bd78-04b34ccd3518",
   "metadata": {},
   "outputs": [
    {
     "data": {
      "text/plain": [
       "['555-555-1234', '555-555-4321']"
      ]
     },
     "execution_count": 199,
     "metadata": {},
     "output_type": "execute_result"
    }
   ],
   "source": [
    "re.findall(r'\\d{3}-\\d{3}-\\d{4}', contact)"
   ]
  },
  {
   "cell_type": "code",
   "execution_count": 200,
   "id": "62e09331-23d1-4924-9f7f-ddba0b61065b",
   "metadata": {},
   "outputs": [
    {
     "name": "stdout",
     "output_type": "stream",
     "text": [
      "555-555-1234\n",
      "555-555-4321\n"
     ]
    }
   ],
   "source": [
    "for phone in re.finditer(r'\\d{3}-\\d{3}-\\d{4}', contact):\n",
    "    print(phone.group())"
   ]
  },
  {
   "cell_type": "code",
   "execution_count": 201,
   "id": "a9b6c943-7c87-4797-bcc6-c79283595525",
   "metadata": {},
   "outputs": [],
   "source": [
    "text = 'Charles Cyan, e-mail: demo1@deitel.com'"
   ]
  },
  {
   "cell_type": "code",
   "execution_count": 202,
   "id": "65850ad1-4b5b-4def-9425-c0ca919775e6",
   "metadata": {},
   "outputs": [],
   "source": [
    "pattern = r'([A-Z][a-z]+ [A-Z][a-z]+), e-mail: (\\w+@\\w+\\.\\w{3})'"
   ]
  },
  {
   "cell_type": "code",
   "execution_count": 203,
   "id": "d415b70a-ed9f-48f3-a487-fc23512eccf3",
   "metadata": {},
   "outputs": [],
   "source": [
    "result = re.search(pattern, text)"
   ]
  },
  {
   "cell_type": "code",
   "execution_count": 204,
   "id": "67b8ee38-173f-4979-b3b1-b0129710f2c1",
   "metadata": {},
   "outputs": [
    {
     "data": {
      "text/plain": [
       "('Charles Cyan', 'demo1@deitel.com')"
      ]
     },
     "execution_count": 204,
     "metadata": {},
     "output_type": "execute_result"
    }
   ],
   "source": [
    "result.groups()"
   ]
  },
  {
   "cell_type": "code",
   "execution_count": 205,
   "id": "a805f5f1-17c1-4fa9-9f62-55d34eaf8fe7",
   "metadata": {},
   "outputs": [
    {
     "data": {
      "text/plain": [
       "'Charles Cyan, e-mail: demo1@deitel.com'"
      ]
     },
     "execution_count": 205,
     "metadata": {},
     "output_type": "execute_result"
    }
   ],
   "source": [
    "result.group()"
   ]
  },
  {
   "cell_type": "code",
   "execution_count": 207,
   "id": "01081ddf-a324-432f-9c90-ba45e4c7ab9f",
   "metadata": {},
   "outputs": [
    {
     "data": {
      "text/plain": [
       "'Charles Cyan'"
      ]
     },
     "execution_count": 207,
     "metadata": {},
     "output_type": "execute_result"
    }
   ],
   "source": [
    "result.group(1)"
   ]
  },
  {
   "cell_type": "code",
   "execution_count": 208,
   "id": "6dad1f71-955d-4ba7-8d14-f17f60ffcc7f",
   "metadata": {},
   "outputs": [
    {
     "data": {
      "text/plain": [
       "'demo1@deitel.com'"
      ]
     },
     "execution_count": 208,
     "metadata": {},
     "output_type": "execute_result"
    }
   ],
   "source": [
    "result.group(2)"
   ]
  },
  {
   "cell_type": "markdown",
   "id": "212d8d08-0702-4796-a42f-16cb4a71dc02",
   "metadata": {},
   "source": [
    "#### Self Check 8.12.3"
   ]
  },
  {
   "cell_type": "code",
   "execution_count": 209,
   "id": "9dedc658-620c-495a-be0f-5f9092cd5b1c",
   "metadata": {},
   "outputs": [],
   "source": [
    "import re"
   ]
  },
  {
   "cell_type": "code",
   "execution_count": 210,
   "id": "36fa666d-8b01-4c58-ad07-2d12ebf58878",
   "metadata": {},
   "outputs": [],
   "source": [
    "result = re.search(r'(\\d+) ([-+*/]) (\\d+)', '10 + 5')"
   ]
  },
  {
   "cell_type": "code",
   "execution_count": 211,
   "id": "2f3462f4-e17a-4647-bf8c-00f4ec72e396",
   "metadata": {},
   "outputs": [
    {
     "data": {
      "text/plain": [
       "('10', '+', '5')"
      ]
     },
     "execution_count": 211,
     "metadata": {},
     "output_type": "execute_result"
    }
   ],
   "source": [
    "result.groups()"
   ]
  },
  {
   "cell_type": "code",
   "execution_count": 212,
   "id": "922f145c-e776-440a-9d02-3140208080c2",
   "metadata": {},
   "outputs": [
    {
     "data": {
      "text/plain": [
       "'10'"
      ]
     },
     "execution_count": 212,
     "metadata": {},
     "output_type": "execute_result"
    }
   ],
   "source": [
    "result.group(1)"
   ]
  },
  {
   "cell_type": "code",
   "execution_count": 213,
   "id": "e8c55739-01ce-495b-b05b-fc50ad0bbe57",
   "metadata": {},
   "outputs": [
    {
     "data": {
      "text/plain": [
       "'+'"
      ]
     },
     "execution_count": 213,
     "metadata": {},
     "output_type": "execute_result"
    }
   ],
   "source": [
    "result.group(2)"
   ]
  },
  {
   "cell_type": "code",
   "execution_count": 214,
   "id": "69195dff-e8ec-400b-88cd-0463842eb118",
   "metadata": {},
   "outputs": [
    {
     "data": {
      "text/plain": [
       "'5'"
      ]
     },
     "execution_count": 214,
     "metadata": {},
     "output_type": "execute_result"
    }
   ],
   "source": [
    "result.group(3)"
   ]
  },
  {
   "cell_type": "markdown",
   "id": "11a4cd59-3af5-49a5-a273-ee390b1498c6",
   "metadata": {},
   "source": [
    "#### Self Check 8.13"
   ]
  },
  {
   "cell_type": "code",
   "execution_count": 215,
   "id": "3057a76b-46bd-47ec-bc0a-e70531ac59f0",
   "metadata": {},
   "outputs": [],
   "source": [
    "import pandas as pd"
   ]
  },
  {
   "cell_type": "code",
   "execution_count": 216,
   "id": "2b3d8eb1-409c-47fc-b97d-d9dcc8c16bd3",
   "metadata": {},
   "outputs": [],
   "source": [
    "import re"
   ]
  },
  {
   "cell_type": "code",
   "execution_count": 217,
   "id": "1eacf314-dd15-46b8-b71b-31da6dba0065",
   "metadata": {},
   "outputs": [],
   "source": [
    "contacts = [['Mike Green', 'demo1@deitel.com', '5555555555'],\n",
    "            ['Sue Brown', 'demo2@deitel.com', '5555551234']]"
   ]
  },
  {
   "cell_type": "code",
   "execution_count": 218,
   "id": "986346b9-5c96-459f-9994-f4506a5bbf6a",
   "metadata": {},
   "outputs": [],
   "source": [
    "contactsdf = pd.DataFrame(contacts, columns = ['Name', 'Email', 'Phone'])"
   ]
  },
  {
   "cell_type": "code",
   "execution_count": 219,
   "id": "6ee52586-7fae-4479-8d40-02ee76a4cd22",
   "metadata": {},
   "outputs": [],
   "source": [
    "def get_formatted_phone(value):\n",
    "    result = re.fullmatch(r'(\\d{3})(\\d{3})(\\d{4})', value)\n",
    "    if result:\n",
    "        part1, part2, part3 = result.groups()\n",
    "        return '(' + part1 + ') ' + part2 + '-' + part3\n",
    "    else:\n",
    "        return value"
   ]
  },
  {
   "cell_type": "code",
   "execution_count": 220,
   "id": "d3b5452d-d79d-4247-b488-6fd866682d2f",
   "metadata": {},
   "outputs": [],
   "source": [
    "contactsdf['Phone'] = contactsdf['Phone'].map(get_formatted_phone)"
   ]
  },
  {
   "cell_type": "code",
   "execution_count": 221,
   "id": "24194f62-c362-48a6-9173-0cf43487949f",
   "metadata": {},
   "outputs": [
    {
     "data": {
      "text/html": [
       "<div>\n",
       "<style scoped>\n",
       "    .dataframe tbody tr th:only-of-type {\n",
       "        vertical-align: middle;\n",
       "    }\n",
       "\n",
       "    .dataframe tbody tr th {\n",
       "        vertical-align: top;\n",
       "    }\n",
       "\n",
       "    .dataframe thead th {\n",
       "        text-align: right;\n",
       "    }\n",
       "</style>\n",
       "<table border=\"1\" class=\"dataframe\">\n",
       "  <thead>\n",
       "    <tr style=\"text-align: right;\">\n",
       "      <th></th>\n",
       "      <th>Name</th>\n",
       "      <th>Email</th>\n",
       "      <th>Phone</th>\n",
       "    </tr>\n",
       "  </thead>\n",
       "  <tbody>\n",
       "    <tr>\n",
       "      <th>0</th>\n",
       "      <td>Mike Green</td>\n",
       "      <td>demo1@deitel.com</td>\n",
       "      <td>(555) 555-5555</td>\n",
       "    </tr>\n",
       "    <tr>\n",
       "      <th>1</th>\n",
       "      <td>Sue Brown</td>\n",
       "      <td>demo2@deitel.com</td>\n",
       "      <td>(555) 555-1234</td>\n",
       "    </tr>\n",
       "  </tbody>\n",
       "</table>\n",
       "</div>"
      ],
      "text/plain": [
       "         Name             Email           Phone\n",
       "0  Mike Green  demo1@deitel.com  (555) 555-5555\n",
       "1   Sue Brown  demo2@deitel.com  (555) 555-1234"
      ]
     },
     "execution_count": 221,
     "metadata": {},
     "output_type": "execute_result"
    }
   ],
   "source": [
    "contactsdf"
   ]
  }
 ],
 "metadata": {
  "kernelspec": {
   "display_name": "Python 3 (ipykernel)",
   "language": "python",
   "name": "python3"
  },
  "language_info": {
   "codemirror_mode": {
    "name": "ipython",
    "version": 3
   },
   "file_extension": ".py",
   "mimetype": "text/x-python",
   "name": "python",
   "nbconvert_exporter": "python",
   "pygments_lexer": "ipython3",
   "version": "3.9.7"
  }
 },
 "nbformat": 4,
 "nbformat_minor": 5
}
